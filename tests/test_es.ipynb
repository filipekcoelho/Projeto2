{
 "cells": [
  {
   "cell_type": "markdown",
   "id": "b966486b-f19b-48a1-aa56-d05ddf3eda38",
   "metadata": {},
   "source": [
    "# Módulo de Entrada e Saída de Dados"
   ]
  },
  {
   "cell_type": "code",
   "execution_count": 1,
   "id": "b4447b3d-bf3e-4f61-95ce-72f8f132cc2a",
   "metadata": {
    "tags": []
   },
   "outputs": [
    {
     "name": "stdin",
     "output_type": "stream",
     "text": [
      "Qual o nome da empresa?  ItaÚ Unibanco Holding S.A\n"
     ]
    }
   ],
   "source": [
    "emissor = input(\"Qual o nome da empresa? \")"
   ]
  },
  {
   "cell_type": "code",
   "execution_count": 2,
   "id": "97753d17-192f-41db-89bf-3c19475ab9fe",
   "metadata": {
    "tags": []
   },
   "outputs": [
    {
     "name": "stdout",
     "output_type": "stream",
     "text": [
      "ItaÚ Unibanco Holding S.A\n"
     ]
    }
   ],
   "source": [
    "print(emissor)"
   ]
  },
  {
   "cell_type": "code",
   "execution_count": 11,
   "id": "1d6c422b-5f6b-4f82-80eb-6830fea3720f",
   "metadata": {
    "tags": []
   },
   "outputs": [
    {
     "name": "stdin",
     "output_type": "stream",
     "text": [
      "Qual o nome da empresa?  Itau\n"
     ]
    }
   ],
   "source": [
    "def leitora_emissor():\n",
    "    \"\"\"Lê emissor informado pelo usuário\"\"\"\n",
    "    emissor = input(\"Qual o nome da empresa? \")\n",
    "    return emissor\n",
    "\n",
    "emissor = leitora_emissor()\n"
   ]
  },
  {
   "cell_type": "code",
   "execution_count": 5,
   "id": "2f8aaf51-7a04-4c55-9265-27f30463058f",
   "metadata": {
    "tags": []
   },
   "outputs": [
    {
     "name": "stdout",
     "output_type": "stream",
     "text": [
      "Bradesco Participações S.A\n"
     ]
    }
   ],
   "source": [
    "print(emissor)"
   ]
  },
  {
   "cell_type": "code",
   "execution_count": 6,
   "id": "4cfe6c27-4de1-4ae5-9d6f-4f99024a2384",
   "metadata": {
    "tags": []
   },
   "outputs": [
    {
     "name": "stdin",
     "output_type": "stream",
     "text": [
      "Qual o código na B3?  BBDC3\n"
     ]
    }
   ],
   "source": [
    "codigo = input(\"Qual o código na B3? \")"
   ]
  },
  {
   "cell_type": "code",
   "execution_count": 7,
   "id": "dbf2af12-44cb-482f-93f0-1d3d021b50c2",
   "metadata": {
    "tags": []
   },
   "outputs": [
    {
     "name": "stdout",
     "output_type": "stream",
     "text": [
      "BBDC3\n"
     ]
    }
   ],
   "source": [
    "print(codigo)"
   ]
  },
  {
   "cell_type": "code",
   "execution_count": 17,
   "id": "3ee824cd-2116-4109-97c4-cfc928405944",
   "metadata": {
    "tags": []
   },
   "outputs": [
    {
     "name": "stdin",
     "output_type": "stream",
     "text": [
      "Qual o código na B3?  bbdc3\n"
     ]
    },
    {
     "name": "stdout",
     "output_type": "stream",
     "text": [
      "bbdc3\n"
     ]
    }
   ],
   "source": [
    "def leitora_codigo():\n",
    "    \"\"\"Lê código informado\"\"\"\n",
    "    codigo = input(\"Qual o código na B3? \")\n",
    "    return codigo\n",
    "codigo = leitora_codigo()\n",
    "print(codigo)"
   ]
  },
  {
   "cell_type": "code",
   "execution_count": 12,
   "id": "fbcad279-546c-4475-a6cf-0f1da132dea1",
   "metadata": {
    "tags": []
   },
   "outputs": [
    {
     "name": "stdin",
     "output_type": "stream",
     "text": [
      "Qual o nome da empresa?  bradesco\n",
      "Qual o código na B3?  bbdc3\n"
     ]
    },
    {
     "name": "stdout",
     "output_type": "stream",
     "text": [
      "['bradesco', 'bbdc3']\n"
     ]
    }
   ],
   "source": [
    "def leitora():\n",
    "    emissor = leitora_emissor()\n",
    "    codigo = leitora_codigo()\n",
    "    return [emissor, codigo]\n",
    "\n",
    "empresa = leitora()\n",
    "print(empresa)"
   ]
  },
  {
   "cell_type": "markdown",
   "id": "f8a7e25e-a10b-4e85-a93d-9014171b40d5",
   "metadata": {},
   "source": [
    "## Funcionalidade de saída de dados"
   ]
  },
  {
   "cell_type": "code",
   "execution_count": 13,
   "id": "f547e7e6-02c6-4657-9448-150f6c5f8795",
   "metadata": {
    "tags": []
   },
   "outputs": [
    {
     "name": "stdout",
     "output_type": "stream",
     "text": [
      "['bradesco', 'bbdc3']\n"
     ]
    }
   ],
   "source": [
    "print(empresa)"
   ]
  },
  {
   "cell_type": "code",
   "execution_count": 20,
   "id": "a8dacc44-44a8-4b48-8083-02a1ffc56cbb",
   "metadata": {
    "tags": []
   },
   "outputs": [],
   "source": [
    "def impressora(resultado: str):\n",
    "    \"\"\"Imprime o resultado\"\"\"\n",
    "    print(f\"A ação criada foi {resultado}\")"
   ]
  },
  {
   "cell_type": "code",
   "execution_count": 19,
   "id": "be7f5517-937c-4a0d-bd5c-bd0b359e5389",
   "metadata": {
    "tags": []
   },
   "outputs": [
    {
     "name": "stdout",
     "output_type": "stream",
     "text": [
      "A ação criada foi ['bradesco', 'bbdc3']\n"
     ]
    }
   ],
   "source": [
    "# Teste\n",
    "impressora(empresa)"
   ]
  },
  {
   "cell_type": "code",
   "execution_count": null,
   "id": "e814f4d9-48ce-4c46-842a-adf62576691d",
   "metadata": {},
   "outputs": [],
   "source": []
  }
 ],
 "metadata": {
  "kernelspec": {
   "display_name": "Python 3 (ipykernel)",
   "language": "python",
   "name": "python3"
  },
  "language_info": {
   "codemirror_mode": {
    "name": "ipython",
    "version": 3
   },
   "file_extension": ".py",
   "mimetype": "text/x-python",
   "name": "python",
   "nbconvert_exporter": "python",
   "pygments_lexer": "ipython3",
   "version": "3.11.5"
  }
 },
 "nbformat": 4,
 "nbformat_minor": 5
}
