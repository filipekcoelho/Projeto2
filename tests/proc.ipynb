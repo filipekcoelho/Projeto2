{
 "cells": [
  {
   "cell_type": "markdown",
   "id": "54c90742-06c2-452c-a2dc-2df61beed029",
   "metadata": {},
   "source": [
    "# Módulo de instanciação de objetos da classe Ação"
   ]
  },
  {
   "cell_type": "code",
   "execution_count": 2,
   "id": "0d637ed6-abea-4a77-8aac-ddaf5cf6a1b7",
   "metadata": {
    "tags": []
   },
   "outputs": [],
   "source": [
    "# Definindo a classe Ação\n",
    "\n",
    "class Acao:\n",
    "    def __init__(self, emissor, codigo_b3):\n",
    "        self.emissor = emissor\n",
    "        self.codigo_b3 = codigo_b3"
   ]
  },
  {
   "cell_type": "code",
   "execution_count": 3,
   "id": "f041b5fe-3413-488a-aeb1-b6d2e564cdde",
   "metadata": {
    "tags": []
   },
   "outputs": [],
   "source": [
    "# Teste da classe Ação, instanciando o objeto BBDC3\n",
    "\n",
    "bbdc3 = Acao(\"Bradesco\", \"BBDC3\")\n"
   ]
  },
  {
   "cell_type": "code",
   "execution_count": 4,
   "id": "f1651845-fdab-4204-990c-0207a295da5a",
   "metadata": {
    "tags": []
   },
   "outputs": [
    {
     "name": "stdout",
     "output_type": "stream",
     "text": [
      "5\n"
     ]
    }
   ],
   "source": [
    "c = 5\n",
    "print(c)"
   ]
  },
  {
   "cell_type": "code",
   "execution_count": 5,
   "id": "ad8dc938-1e2f-4734-a258-e718dadf89e7",
   "metadata": {
    "tags": []
   },
   "outputs": [
    {
     "name": "stdout",
     "output_type": "stream",
     "text": [
      "<__main__.Acao object at 0x0000026CD50881D0>\n"
     ]
    }
   ],
   "source": [
    "print(bbdc3)"
   ]
  },
  {
   "cell_type": "code",
   "execution_count": 20,
   "id": "0ce0a931-5504-4e21-ae0f-ea184b4da535",
   "metadata": {
    "tags": []
   },
   "outputs": [],
   "source": [
    "# Evoluindo a classe\n",
    "\n",
    "class Acao:\n",
    "    def __init__(self, emissor, codigo_b3):\n",
    "        self.emissor = emissor\n",
    "        self.codigo_b3 = codigo_b3\n",
    "    def __str__(self):\n",
    "        return f\"Este é um objeto da classe Ação e o emissor da ação é {self.emissor} e o código é {self.codigo_b3}\"\n",
    "    def negociar(self):\n",
    "        print(\"Método negociar() não implementado\")\n",
    "        NotImplemented"
   ]
  },
  {
   "cell_type": "code",
   "execution_count": 21,
   "id": "56635678-f8a5-4ea1-b8f2-e1c4b0a9c133",
   "metadata": {
    "tags": []
   },
   "outputs": [
    {
     "name": "stdout",
     "output_type": "stream",
     "text": [
      "Este é um objeto da classe Ação e o emissor da ação é Bradesco e o código é BBDC4\n",
      "Método negociar() não implementado\n"
     ]
    }
   ],
   "source": [
    "# Teste\n",
    "bbdc4 = Acao(\"Bradesco\", \"BBDC4\")\n",
    "print(bbdc4)\n",
    "bbdc4.negociar()"
   ]
  },
  {
   "cell_type": "code",
   "execution_count": null,
   "id": "c5bd668e-f773-45f9-8fd2-8634c8e9ff03",
   "metadata": {},
   "outputs": [],
   "source": []
  }
 ],
 "metadata": {
  "kernelspec": {
   "display_name": "Python 3 (ipykernel)",
   "language": "python",
   "name": "python3"
  },
  "language_info": {
   "codemirror_mode": {
    "name": "ipython",
    "version": 3
   },
   "file_extension": ".py",
   "mimetype": "text/x-python",
   "name": "python",
   "nbconvert_exporter": "python",
   "pygments_lexer": "ipython3",
   "version": "3.11.5"
  }
 },
 "nbformat": 4,
 "nbformat_minor": 5
}
